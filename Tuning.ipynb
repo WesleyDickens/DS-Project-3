{
 "cells": [
  {
   "cell_type": "code",
   "execution_count": 1,
   "id": "9f3239ff",
   "metadata": {},
   "outputs": [],
   "source": [
    "%run 'Data Cleaning.ipynb'"
   ]
  },
  {
   "cell_type": "code",
   "execution_count": 2,
   "id": "e149e17d",
   "metadata": {},
   "outputs": [],
   "source": [
    "from sklearn.preprocessing import OneHotEncoder\n",
    "from sklearn.model_selection import cross_validate, train_test_split\n",
    "from sklearn.linear_model import LogisticRegression\n",
    "from sklearn.metrics import classification_report, roc_curve, RocCurveDisplay"
   ]
  },
  {
   "cell_type": "code",
   "execution_count": 3,
   "id": "da340d36",
   "metadata": {},
   "outputs": [],
   "source": [
    "import numpy as np\n",
    "import pandas as pd\n",
    "import matplotlib.pyplot as plt\n",
    "import seaborn as sns"
   ]
  },
  {
   "cell_type": "code",
   "execution_count": 4,
   "id": "f3836e69",
   "metadata": {},
   "outputs": [
    {
     "data": {
      "text/plain": [
       "<21879x28 sparse matrix of type '<class 'numpy.float64'>'\n",
       "\twith 130623 stored elements in Compressed Sparse Row format>"
      ]
     },
     "execution_count": 4,
     "metadata": {},
     "output_type": "execute_result"
    }
   ],
   "source": [
    "object_columns = df_clean_v1.select_dtypes(include=['object']).columns\n",
    "\n",
    "onehot_enc = OneHotEncoder(drop = 'first')\n",
    "\n",
    "onehot_enc.fit_transform(df_clean_v1[object_columns])"
   ]
  },
  {
   "cell_type": "code",
   "execution_count": 5,
   "id": "6610f17d",
   "metadata": {},
   "outputs": [
    {
     "data": {
      "text/html": [
       "<div>\n",
       "<style scoped>\n",
       "    .dataframe tbody tr th:only-of-type {\n",
       "        vertical-align: middle;\n",
       "    }\n",
       "\n",
       "    .dataframe tbody tr th {\n",
       "        vertical-align: top;\n",
       "    }\n",
       "\n",
       "    .dataframe thead th {\n",
       "        text-align: right;\n",
       "    }\n",
       "</style>\n",
       "<table border=\"1\" class=\"dataframe\">\n",
       "  <thead>\n",
       "    <tr style=\"text-align: right;\">\n",
       "      <th></th>\n",
       "      <th>respondent_id</th>\n",
       "      <th>behavioral_antiviral_meds</th>\n",
       "      <th>behavioral_avoidance</th>\n",
       "      <th>behavioral_face_mask</th>\n",
       "      <th>behavioral_wash_hands</th>\n",
       "      <th>behavioral_large_gatherings</th>\n",
       "      <th>behavioral_outside_home</th>\n",
       "      <th>behavioral_touch_face</th>\n",
       "      <th>doctor_recc_seasonal</th>\n",
       "      <th>chronic_med_condition</th>\n",
       "      <th>...</th>\n",
       "      <th>sex</th>\n",
       "      <th>income_poverty</th>\n",
       "      <th>marital_status</th>\n",
       "      <th>rent_or_own</th>\n",
       "      <th>employment_status</th>\n",
       "      <th>hhs_geo_region</th>\n",
       "      <th>census_msa</th>\n",
       "      <th>household_adults</th>\n",
       "      <th>household_children</th>\n",
       "      <th>seasonal_vaccine</th>\n",
       "    </tr>\n",
       "  </thead>\n",
       "  <tbody>\n",
       "    <tr>\n",
       "      <th>0</th>\n",
       "      <td>0</td>\n",
       "      <td>0.0</td>\n",
       "      <td>0.0</td>\n",
       "      <td>0.0</td>\n",
       "      <td>0.0</td>\n",
       "      <td>0.0</td>\n",
       "      <td>1.0</td>\n",
       "      <td>1.0</td>\n",
       "      <td>0.0</td>\n",
       "      <td>0.0</td>\n",
       "      <td>...</td>\n",
       "      <td>Female</td>\n",
       "      <td>Below Poverty</td>\n",
       "      <td>Not Married</td>\n",
       "      <td>Own</td>\n",
       "      <td>Not in Labor Force</td>\n",
       "      <td>oxchjgsf</td>\n",
       "      <td>Non-MSA</td>\n",
       "      <td>0.0</td>\n",
       "      <td>0.0</td>\n",
       "      <td>0</td>\n",
       "    </tr>\n",
       "    <tr>\n",
       "      <th>1</th>\n",
       "      <td>2</td>\n",
       "      <td>0.0</td>\n",
       "      <td>1.0</td>\n",
       "      <td>0.0</td>\n",
       "      <td>0.0</td>\n",
       "      <td>0.0</td>\n",
       "      <td>0.0</td>\n",
       "      <td>0.0</td>\n",
       "      <td>NaN</td>\n",
       "      <td>1.0</td>\n",
       "      <td>...</td>\n",
       "      <td>Male</td>\n",
       "      <td>&lt;= $75,000, Above Poverty</td>\n",
       "      <td>Not Married</td>\n",
       "      <td>Own</td>\n",
       "      <td>Employed</td>\n",
       "      <td>qufhixun</td>\n",
       "      <td>MSA, Not Principle  City</td>\n",
       "      <td>2.0</td>\n",
       "      <td>0.0</td>\n",
       "      <td>0</td>\n",
       "    </tr>\n",
       "    <tr>\n",
       "      <th>2</th>\n",
       "      <td>3</td>\n",
       "      <td>0.0</td>\n",
       "      <td>1.0</td>\n",
       "      <td>0.0</td>\n",
       "      <td>1.0</td>\n",
       "      <td>1.0</td>\n",
       "      <td>0.0</td>\n",
       "      <td>0.0</td>\n",
       "      <td>1.0</td>\n",
       "      <td>1.0</td>\n",
       "      <td>...</td>\n",
       "      <td>Female</td>\n",
       "      <td>Below Poverty</td>\n",
       "      <td>Not Married</td>\n",
       "      <td>Rent</td>\n",
       "      <td>Not in Labor Force</td>\n",
       "      <td>lrircsnp</td>\n",
       "      <td>MSA, Principle City</td>\n",
       "      <td>0.0</td>\n",
       "      <td>0.0</td>\n",
       "      <td>1</td>\n",
       "    </tr>\n",
       "    <tr>\n",
       "      <th>3</th>\n",
       "      <td>4</td>\n",
       "      <td>0.0</td>\n",
       "      <td>1.0</td>\n",
       "      <td>0.0</td>\n",
       "      <td>1.0</td>\n",
       "      <td>1.0</td>\n",
       "      <td>0.0</td>\n",
       "      <td>1.0</td>\n",
       "      <td>0.0</td>\n",
       "      <td>0.0</td>\n",
       "      <td>...</td>\n",
       "      <td>Female</td>\n",
       "      <td>&lt;= $75,000, Above Poverty</td>\n",
       "      <td>Married</td>\n",
       "      <td>Own</td>\n",
       "      <td>Employed</td>\n",
       "      <td>qufhixun</td>\n",
       "      <td>MSA, Not Principle  City</td>\n",
       "      <td>1.0</td>\n",
       "      <td>0.0</td>\n",
       "      <td>0</td>\n",
       "    </tr>\n",
       "    <tr>\n",
       "      <th>4</th>\n",
       "      <td>5</td>\n",
       "      <td>0.0</td>\n",
       "      <td>1.0</td>\n",
       "      <td>0.0</td>\n",
       "      <td>1.0</td>\n",
       "      <td>0.0</td>\n",
       "      <td>0.0</td>\n",
       "      <td>1.0</td>\n",
       "      <td>1.0</td>\n",
       "      <td>0.0</td>\n",
       "      <td>...</td>\n",
       "      <td>Male</td>\n",
       "      <td>&lt;= $75,000, Above Poverty</td>\n",
       "      <td>Married</td>\n",
       "      <td>Own</td>\n",
       "      <td>Employed</td>\n",
       "      <td>atmpeygn</td>\n",
       "      <td>MSA, Principle City</td>\n",
       "      <td>2.0</td>\n",
       "      <td>3.0</td>\n",
       "      <td>0</td>\n",
       "    </tr>\n",
       "    <tr>\n",
       "      <th>...</th>\n",
       "      <td>...</td>\n",
       "      <td>...</td>\n",
       "      <td>...</td>\n",
       "      <td>...</td>\n",
       "      <td>...</td>\n",
       "      <td>...</td>\n",
       "      <td>...</td>\n",
       "      <td>...</td>\n",
       "      <td>...</td>\n",
       "      <td>...</td>\n",
       "      <td>...</td>\n",
       "      <td>...</td>\n",
       "      <td>...</td>\n",
       "      <td>...</td>\n",
       "      <td>...</td>\n",
       "      <td>...</td>\n",
       "      <td>...</td>\n",
       "      <td>...</td>\n",
       "      <td>...</td>\n",
       "      <td>...</td>\n",
       "      <td>...</td>\n",
       "    </tr>\n",
       "    <tr>\n",
       "      <th>26700</th>\n",
       "      <td>26701</td>\n",
       "      <td>0.0</td>\n",
       "      <td>0.0</td>\n",
       "      <td>0.0</td>\n",
       "      <td>1.0</td>\n",
       "      <td>0.0</td>\n",
       "      <td>0.0</td>\n",
       "      <td>1.0</td>\n",
       "      <td>0.0</td>\n",
       "      <td>0.0</td>\n",
       "      <td>...</td>\n",
       "      <td>Female</td>\n",
       "      <td>&gt; $75,000</td>\n",
       "      <td>Not Married</td>\n",
       "      <td>Rent</td>\n",
       "      <td>Not in Labor Force</td>\n",
       "      <td>fpwskwrf</td>\n",
       "      <td>MSA, Principle City</td>\n",
       "      <td>3.0</td>\n",
       "      <td>0.0</td>\n",
       "      <td>0</td>\n",
       "    </tr>\n",
       "    <tr>\n",
       "      <th>26701</th>\n",
       "      <td>26702</td>\n",
       "      <td>0.0</td>\n",
       "      <td>1.0</td>\n",
       "      <td>0.0</td>\n",
       "      <td>0.0</td>\n",
       "      <td>0.0</td>\n",
       "      <td>1.0</td>\n",
       "      <td>0.0</td>\n",
       "      <td>0.0</td>\n",
       "      <td>0.0</td>\n",
       "      <td>...</td>\n",
       "      <td>Female</td>\n",
       "      <td>&lt;= $75,000, Above Poverty</td>\n",
       "      <td>Not Married</td>\n",
       "      <td>Own</td>\n",
       "      <td>Not in Labor Force</td>\n",
       "      <td>qufhixun</td>\n",
       "      <td>Non-MSA</td>\n",
       "      <td>0.0</td>\n",
       "      <td>0.0</td>\n",
       "      <td>0</td>\n",
       "    </tr>\n",
       "    <tr>\n",
       "      <th>26702</th>\n",
       "      <td>26703</td>\n",
       "      <td>0.0</td>\n",
       "      <td>1.0</td>\n",
       "      <td>0.0</td>\n",
       "      <td>1.0</td>\n",
       "      <td>0.0</td>\n",
       "      <td>0.0</td>\n",
       "      <td>0.0</td>\n",
       "      <td>1.0</td>\n",
       "      <td>0.0</td>\n",
       "      <td>...</td>\n",
       "      <td>Male</td>\n",
       "      <td>&lt;= $75,000, Above Poverty</td>\n",
       "      <td>Not Married</td>\n",
       "      <td>Rent</td>\n",
       "      <td>Employed</td>\n",
       "      <td>lzgpxyit</td>\n",
       "      <td>MSA, Principle City</td>\n",
       "      <td>1.0</td>\n",
       "      <td>0.0</td>\n",
       "      <td>0</td>\n",
       "    </tr>\n",
       "    <tr>\n",
       "      <th>26704</th>\n",
       "      <td>26705</td>\n",
       "      <td>0.0</td>\n",
       "      <td>0.0</td>\n",
       "      <td>0.0</td>\n",
       "      <td>0.0</td>\n",
       "      <td>0.0</td>\n",
       "      <td>0.0</td>\n",
       "      <td>NaN</td>\n",
       "      <td>0.0</td>\n",
       "      <td>0.0</td>\n",
       "      <td>...</td>\n",
       "      <td>Female</td>\n",
       "      <td>&lt;= $75,000, Above Poverty</td>\n",
       "      <td>Married</td>\n",
       "      <td>Rent</td>\n",
       "      <td>Employed</td>\n",
       "      <td>lrircsnp</td>\n",
       "      <td>Non-MSA</td>\n",
       "      <td>1.0</td>\n",
       "      <td>0.0</td>\n",
       "      <td>0</td>\n",
       "    </tr>\n",
       "    <tr>\n",
       "      <th>26705</th>\n",
       "      <td>26706</td>\n",
       "      <td>0.0</td>\n",
       "      <td>1.0</td>\n",
       "      <td>0.0</td>\n",
       "      <td>0.0</td>\n",
       "      <td>0.0</td>\n",
       "      <td>0.0</td>\n",
       "      <td>0.0</td>\n",
       "      <td>0.0</td>\n",
       "      <td>0.0</td>\n",
       "      <td>...</td>\n",
       "      <td>Male</td>\n",
       "      <td>&lt;= $75,000, Above Poverty</td>\n",
       "      <td>Married</td>\n",
       "      <td>Own</td>\n",
       "      <td>Not in Labor Force</td>\n",
       "      <td>mlyzmhmf</td>\n",
       "      <td>MSA, Principle City</td>\n",
       "      <td>1.0</td>\n",
       "      <td>0.0</td>\n",
       "      <td>0</td>\n",
       "    </tr>\n",
       "  </tbody>\n",
       "</table>\n",
       "<p>21879 rows × 29 columns</p>\n",
       "</div>"
      ],
      "text/plain": [
       "       respondent_id  behavioral_antiviral_meds  behavioral_avoidance  \\\n",
       "0                  0                        0.0                   0.0   \n",
       "1                  2                        0.0                   1.0   \n",
       "2                  3                        0.0                   1.0   \n",
       "3                  4                        0.0                   1.0   \n",
       "4                  5                        0.0                   1.0   \n",
       "...              ...                        ...                   ...   \n",
       "26700          26701                        0.0                   0.0   \n",
       "26701          26702                        0.0                   1.0   \n",
       "26702          26703                        0.0                   1.0   \n",
       "26704          26705                        0.0                   0.0   \n",
       "26705          26706                        0.0                   1.0   \n",
       "\n",
       "       behavioral_face_mask  behavioral_wash_hands  \\\n",
       "0                       0.0                    0.0   \n",
       "1                       0.0                    0.0   \n",
       "2                       0.0                    1.0   \n",
       "3                       0.0                    1.0   \n",
       "4                       0.0                    1.0   \n",
       "...                     ...                    ...   \n",
       "26700                   0.0                    1.0   \n",
       "26701                   0.0                    0.0   \n",
       "26702                   0.0                    1.0   \n",
       "26704                   0.0                    0.0   \n",
       "26705                   0.0                    0.0   \n",
       "\n",
       "       behavioral_large_gatherings  behavioral_outside_home  \\\n",
       "0                              0.0                      1.0   \n",
       "1                              0.0                      0.0   \n",
       "2                              1.0                      0.0   \n",
       "3                              1.0                      0.0   \n",
       "4                              0.0                      0.0   \n",
       "...                            ...                      ...   \n",
       "26700                          0.0                      0.0   \n",
       "26701                          0.0                      1.0   \n",
       "26702                          0.0                      0.0   \n",
       "26704                          0.0                      0.0   \n",
       "26705                          0.0                      0.0   \n",
       "\n",
       "       behavioral_touch_face  doctor_recc_seasonal  chronic_med_condition  \\\n",
       "0                        1.0                   0.0                    0.0   \n",
       "1                        0.0                   NaN                    1.0   \n",
       "2                        0.0                   1.0                    1.0   \n",
       "3                        1.0                   0.0                    0.0   \n",
       "4                        1.0                   1.0                    0.0   \n",
       "...                      ...                   ...                    ...   \n",
       "26700                    1.0                   0.0                    0.0   \n",
       "26701                    0.0                   0.0                    0.0   \n",
       "26702                    0.0                   1.0                    0.0   \n",
       "26704                    NaN                   0.0                    0.0   \n",
       "26705                    0.0                   0.0                    0.0   \n",
       "\n",
       "       ...     sex             income_poverty  marital_status  rent_or_own  \\\n",
       "0      ...  Female              Below Poverty     Not Married          Own   \n",
       "1      ...    Male  <= $75,000, Above Poverty     Not Married          Own   \n",
       "2      ...  Female              Below Poverty     Not Married         Rent   \n",
       "3      ...  Female  <= $75,000, Above Poverty         Married          Own   \n",
       "4      ...    Male  <= $75,000, Above Poverty         Married          Own   \n",
       "...    ...     ...                        ...             ...          ...   \n",
       "26700  ...  Female                  > $75,000     Not Married         Rent   \n",
       "26701  ...  Female  <= $75,000, Above Poverty     Not Married          Own   \n",
       "26702  ...    Male  <= $75,000, Above Poverty     Not Married         Rent   \n",
       "26704  ...  Female  <= $75,000, Above Poverty         Married         Rent   \n",
       "26705  ...    Male  <= $75,000, Above Poverty         Married          Own   \n",
       "\n",
       "        employment_status  hhs_geo_region                census_msa  \\\n",
       "0      Not in Labor Force        oxchjgsf                   Non-MSA   \n",
       "1                Employed        qufhixun  MSA, Not Principle  City   \n",
       "2      Not in Labor Force        lrircsnp       MSA, Principle City   \n",
       "3                Employed        qufhixun  MSA, Not Principle  City   \n",
       "4                Employed        atmpeygn       MSA, Principle City   \n",
       "...                   ...             ...                       ...   \n",
       "26700  Not in Labor Force        fpwskwrf       MSA, Principle City   \n",
       "26701  Not in Labor Force        qufhixun                   Non-MSA   \n",
       "26702            Employed        lzgpxyit       MSA, Principle City   \n",
       "26704            Employed        lrircsnp                   Non-MSA   \n",
       "26705  Not in Labor Force        mlyzmhmf       MSA, Principle City   \n",
       "\n",
       "      household_adults household_children seasonal_vaccine  \n",
       "0                  0.0                0.0                0  \n",
       "1                  2.0                0.0                0  \n",
       "2                  0.0                0.0                1  \n",
       "3                  1.0                0.0                0  \n",
       "4                  2.0                3.0                0  \n",
       "...                ...                ...              ...  \n",
       "26700              3.0                0.0                0  \n",
       "26701              0.0                0.0                0  \n",
       "26702              1.0                0.0                0  \n",
       "26704              1.0                0.0                0  \n",
       "26705              1.0                0.0                0  \n",
       "\n",
       "[21879 rows x 29 columns]"
      ]
     },
     "execution_count": 5,
     "metadata": {},
     "output_type": "execute_result"
    }
   ],
   "source": [
    "df_clean_v1"
   ]
  },
  {
   "cell_type": "code",
   "execution_count": 6,
   "id": "35179207",
   "metadata": {},
   "outputs": [],
   "source": [
    "object_cols = df_clean_v1.select_dtypes(include=['object'])\n",
    "\n",
    "# Apply one-hot encoding\n",
    "one_hot_encoded_cols = pd.get_dummies(object_cols).astype(int)\n",
    "\n",
    "# Merge with the original DataFrame\n",
    "df = df_clean_v1.drop(object_cols.columns, axis=1)\n",
    "df = pd.concat([df, one_hot_encoded_cols], axis=1)"
   ]
  },
  {
   "cell_type": "markdown",
   "id": "e4a19aac",
   "metadata": {},
   "source": [
    "# Logistic Regression "
   ]
  },
  {
   "cell_type": "code",
   "execution_count": 7,
   "id": "6a809dd9",
   "metadata": {},
   "outputs": [],
   "source": [
    "# Wesley original:\n",
    "# df.drop(columns=['respondent_id'])\n",
    "df.drop(columns=[\"respondent_id\"], axis=1, inplace=True)\n",
    "data = df.drop(columns=df.select_dtypes(include=['object']).columns)\n",
    "\n",
    "X = data.drop(columns=['seasonal_vaccine'])\n",
    "y = data['seasonal_vaccine']\n",
    "\n",
    "X_train, X_test, y_train, y_test = train_test_split(X, y, test_size=0.2, random_state=4)\n",
    "\n",
    "for col in float_columns:\n",
    "    median = X_train[col].median()\n",
    "    X_train[col].fillna(median,inplace=True)\n",
    "    \n",
    "for col in float_columns:\n",
    "    median = X_test[col].median()\n",
    "    X_test[col].fillna(median,inplace=True)"
   ]
  },
  {
   "cell_type": "markdown",
   "id": "9ce41e0f",
   "metadata": {},
   "source": [
    "Hyperparameter tuning on $C$, the inverse regularization strength."
   ]
  },
  {
   "cell_type": "code",
   "execution_count": 8,
   "id": "dbda55ed",
   "metadata": {},
   "outputs": [],
   "source": [
    "C_list = [1e-3, 1e-2, 1e-1, 1, 10, 100, 1e3]\n",
    "cv_scores = []\n",
    "cv_scores_std = []\n",
    "\n",
    "for c in C_list:\n",
    "    logreg = LogisticRegression(C = c, max_iter=1000) #Using the default lbfgs solver\n",
    "    cv_loop_results = cross_validate(\n",
    "                X = X_train,\n",
    "                y = y_train,\n",
    "                estimator = logreg, \n",
    "                cv = 7)\n",
    "    cv_scores.append(np.mean(cv_loop_results[\"test_score\"]))\n",
    "    cv_scores_std.append(np.std(cv_loop_results[\"test_score\"]))"
   ]
  },
  {
   "cell_type": "code",
   "execution_count": 9,
   "id": "f543236e",
   "metadata": {},
   "outputs": [
    {
     "data": {
      "image/png": "[encoded data removed]",
      "text/plain": [
       "<Figure size 640x480 with 1 Axes>"
      ]
     },
     "metadata": {},
     "output_type": "display_data"
    }
   ],
   "source": [
    "fig, ax = plt.subplots()\n",
    "sns.lineplot(x=np.log10(C_list), y=cv_scores, marker=\"o\", ax=ax)\n",
    "ax.set_xlabel(\"Log(C)\")\n",
    "ax.set_ylabel(\"Mean Accuracy\")\n",
    "ax.set_title(\"Accuracy averaged on validation folds\")\n",
    "plt.grid(linewidth=0.2)\n",
    "plt.show()"
   ]
  },
  {
   "cell_type": "markdown",
   "id": "3c361c62",
   "metadata": {},
   "source": [
    "Cross Validation Scores"
   ]
  },
  {
   "cell_type": "code",
   "execution_count": 10,
   "id": "12ff355f",
   "metadata": {},
   "outputs": [
    {
     "data": {
      "text/plain": [
       "[0.7634696064431371,\n",
       " 0.774839549894328,\n",
       " 0.7756961672473867,\n",
       " 0.7757533786485407,\n",
       " 0.7758676415148226,\n",
       " 0.7758105215056835,\n",
       " 0.7758676643628263]"
      ]
     },
     "execution_count": 10,
     "metadata": {},
     "output_type": "execute_result"
    }
   ],
   "source": [
    "cv_scores"
   ]
  },
  {
   "cell_type": "code",
   "execution_count": 11,
   "id": "18a0a336",
   "metadata": {},
   "outputs": [
    {
     "data": {
      "text/plain": [
       "[0.0053895797720975485,\n",
       " 0.0059571097223304744,\n",
       " 0.004697130738254792,\n",
       " 0.004824381772704777,\n",
       " 0.004839391962766399,\n",
       " 0.004885766639478661,\n",
       " 0.004931874972935821]"
      ]
     },
     "execution_count": 11,
     "metadata": {},
     "output_type": "execute_result"
    }
   ],
   "source": [
    "cv_scores_std"
   ]
  },
  {
   "cell_type": "markdown",
   "id": "dfe3fa36",
   "metadata": {},
   "source": [
    "C = 1 is the best fit."
   ]
  },
  {
   "cell_type": "code",
   "execution_count": 12,
   "id": "37b0ba61",
   "metadata": {},
   "outputs": [
    {
     "data": {
      "text/html": [
       "<style>#sk-container-id-1 {color: black;}#sk-container-id-1 pre{padding: 0;}#sk-container-id-1 div.sk-toggleable {background-color: white;}#sk-container-id-1 label.sk-toggleable__label {cursor: pointer;display: block;width: 100%;margin-bottom: 0;padding: 0.3em;box-sizing: border-box;text-align: center;}#sk-container-id-1 label.sk-toggleable__label-arrow:before {content: \"▸\";float: left;margin-right: 0.25em;color: #696969;}#sk-container-id-1 label.sk-toggleable__label-arrow:hover:before {color: black;}#sk-container-id-1 div.sk-estimator:hover label.sk-toggleable__label-arrow:before {color: black;}#sk-container-id-1 div.sk-toggleable__content {max-height: 0;max-width: 0;overflow: hidden;text-align: left;background-color: #f0f8ff;}#sk-container-id-1 div.sk-toggleable__content pre {margin: 0.2em;color: black;border-radius: 0.25em;background-color: #f0f8ff;}#sk-container-id-1 input.sk-toggleable__control:checked~div.sk-toggleable__content {max-height: 200px;max-width: 100%;overflow: auto;}#sk-container-id-1 input.sk-toggleable__control:checked~label.sk-toggleable__label-arrow:before {content: \"▾\";}#sk-container-id-1 div.sk-estimator input.sk-toggleable__control:checked~label.sk-toggleable__label {background-color: #d4ebff;}#sk-container-id-1 div.sk-label input.sk-toggleable__control:checked~label.sk-toggleable__label {background-color: #d4ebff;}#sk-container-id-1 input.sk-hidden--visually {border: 0;clip: rect(1px 1px 1px 1px);clip: rect(1px, 1px, 1px, 1px);height: 1px;margin: -1px;overflow: hidden;padding: 0;position: absolute;width: 1px;}#sk-container-id-1 div.sk-estimator {font-family: monospace;background-color: #f0f8ff;border: 1px dotted black;border-radius: 0.25em;box-sizing: border-box;margin-bottom: 0.5em;}#sk-container-id-1 div.sk-estimator:hover {background-color: #d4ebff;}#sk-container-id-1 div.sk-parallel-item::after {content: \"\";width: 100%;border-bottom: 1px solid gray;flex-grow: 1;}#sk-container-id-1 div.sk-label:hover label.sk-toggleable__label {background-color: #d4ebff;}#sk-container-id-1 div.sk-serial::before {content: \"\";position: absolute;border-left: 1px solid gray;box-sizing: border-box;top: 0;bottom: 0;left: 50%;z-index: 0;}#sk-container-id-1 div.sk-serial {display: flex;flex-direction: column;align-items: center;background-color: white;padding-right: 0.2em;padding-left: 0.2em;position: relative;}#sk-container-id-1 div.sk-item {position: relative;z-index: 1;}#sk-container-id-1 div.sk-parallel {display: flex;align-items: stretch;justify-content: center;background-color: white;position: relative;}#sk-container-id-1 div.sk-item::before, #sk-container-id-1 div.sk-parallel-item::before {content: \"\";position: absolute;border-left: 1px solid gray;box-sizing: border-box;top: 0;bottom: 0;left: 50%;z-index: -1;}#sk-container-id-1 div.sk-parallel-item {display: flex;flex-direction: column;z-index: 1;position: relative;background-color: white;}#sk-container-id-1 div.sk-parallel-item:first-child::after {align-self: flex-end;width: 50%;}#sk-container-id-1 div.sk-parallel-item:last-child::after {align-self: flex-start;width: 50%;}#sk-container-id-1 div.sk-parallel-item:only-child::after {width: 0;}#sk-container-id-1 div.sk-dashed-wrapped {border: 1px dashed gray;margin: 0 0.4em 0.5em 0.4em;box-sizing: border-box;padding-bottom: 0.4em;background-color: white;}#sk-container-id-1 div.sk-label label {font-family: monospace;font-weight: bold;display: inline-block;line-height: 1.2em;}#sk-container-id-1 div.sk-label-container {text-align: center;}#sk-container-id-1 div.sk-container {/* jupyter's `normalize.less` sets `[hidden] { display: none; }` but bootstrap.min.css set `[hidden] { display: none !important; }` so we also need the `!important` here to be able to override the default hidden behavior on the sphinx rendered scikit-learn.org. See: https://github.com/scikit-learn/scikit-learn/issues/21755 */display: inline-block !important;position: relative;}#sk-container-id-1 div.sk-text-repr-fallback {display: none;}</style><div id=\"sk-container-id-1\" class=\"sk-top-container\"><div class=\"sk-text-repr-fallback\"><pre>LogisticRegression(C=1, max_iter=1000)</pre><b>In a Jupyter environment, please rerun this cell to show the HTML representation or trust the notebook. <br />On GitHub, the HTML representation is unable to render, please try loading this page with nbviewer.org.</b></div><div class=\"sk-container\" hidden><div class=\"sk-item\"><div class=\"sk-estimator sk-toggleable\"><input class=\"sk-toggleable__control sk-hidden--visually\" id=\"sk-estimator-id-1\" type=\"checkbox\" checked><label for=\"sk-estimator-id-1\" class=\"sk-toggleable__label sk-toggleable__label-arrow\">LogisticRegression</label><div class=\"sk-toggleable__content\"><pre>LogisticRegression(C=1, max_iter=1000)</pre></div></div></div></div></div>"
      ],
      "text/plain": [
       "LogisticRegression(C=1, max_iter=1000)"
      ]
     },
     "execution_count": 12,
     "metadata": {},
     "output_type": "execute_result"
    }
   ],
   "source": [
    "logreg_best = LogisticRegression(C=1, max_iter=1000)\n",
    "logreg_best.fit(X_train, y_train)"
   ]
  },
  {
   "cell_type": "code",
   "execution_count": 13,
   "id": "ff1282e5",
   "metadata": {},
   "outputs": [
    {
     "data": {
      "text/plain": [
       "0.7822212065813529"
      ]
     },
     "execution_count": 13,
     "metadata": {},
     "output_type": "execute_result"
    }
   ],
   "source": [
    "logreg_best.score(X_test,y_test)"
   ]
  },
  {
   "cell_type": "markdown",
   "id": "fada6f20",
   "metadata": {},
   "source": [
    "Post tuning, this model predicts at 78% accuracy."
   ]
  },
  {
   "cell_type": "code",
   "execution_count": 14,
   "id": "0353c4fa",
   "metadata": {},
   "outputs": [
    {
     "name": "stdout",
     "output_type": "stream",
     "text": [
      "              precision    recall  f1-score   support\n",
      "\n",
      "           0       0.78      0.81      0.79      2282\n",
      "           1       0.78      0.76      0.77      2094\n",
      "\n",
      "    accuracy                           0.78      4376\n",
      "   macro avg       0.78      0.78      0.78      4376\n",
      "weighted avg       0.78      0.78      0.78      4376\n",
      "\n"
     ]
    }
   ],
   "source": [
    "y_pred = logreg_best.predict(X_test)\n",
    "print(classification_report(y_test, y_pred))"
   ]
  },
  {
   "cell_type": "markdown",
   "id": "7b8f2311",
   "metadata": {},
   "source": [
    "Looking at feature coefficients."
   ]
  },
  {
   "cell_type": "code",
   "execution_count": 15,
   "id": "49a4b84d",
   "metadata": {},
   "outputs": [
    {
     "data": {
      "text/html": [
       "<div>\n",
       "<style scoped>\n",
       "    .dataframe tbody tr th:only-of-type {\n",
       "        vertical-align: middle;\n",
       "    }\n",
       "\n",
       "    .dataframe tbody tr th {\n",
       "        vertical-align: top;\n",
       "    }\n",
       "\n",
       "    .dataframe thead th {\n",
       "        text-align: right;\n",
       "    }\n",
       "</style>\n",
       "<table border=\"1\" class=\"dataframe\">\n",
       "  <thead>\n",
       "    <tr style=\"text-align: right;\">\n",
       "      <th></th>\n",
       "      <th>Feature</th>\n",
       "      <th>Coefficient</th>\n",
       "      <th>Absolute Coefficient</th>\n",
       "    </tr>\n",
       "  </thead>\n",
       "  <tbody>\n",
       "    <tr>\n",
       "      <th>7</th>\n",
       "      <td>doctor_recc_seasonal</td>\n",
       "      <td>1.274987</td>\n",
       "      <td>1.274987</td>\n",
       "    </tr>\n",
       "    <tr>\n",
       "      <th>21</th>\n",
       "      <td>age_group_65+ Years</td>\n",
       "      <td>0.892130</td>\n",
       "      <td>0.892130</td>\n",
       "    </tr>\n",
       "    <tr>\n",
       "      <th>10</th>\n",
       "      <td>health_worker</td>\n",
       "      <td>0.864741</td>\n",
       "      <td>0.864741</td>\n",
       "    </tr>\n",
       "    <tr>\n",
       "      <th>17</th>\n",
       "      <td>age_group_18 - 34 Years</td>\n",
       "      <td>-0.610349</td>\n",
       "      <td>0.610349</td>\n",
       "    </tr>\n",
       "    <tr>\n",
       "      <th>12</th>\n",
       "      <td>opinion_seas_vacc_effective</td>\n",
       "      <td>0.597997</td>\n",
       "      <td>0.597997</td>\n",
       "    </tr>\n",
       "    <tr>\n",
       "      <th>13</th>\n",
       "      <td>opinion_seas_risk</td>\n",
       "      <td>0.553743</td>\n",
       "      <td>0.553743</td>\n",
       "    </tr>\n",
       "    <tr>\n",
       "      <th>11</th>\n",
       "      <td>health_insurance</td>\n",
       "      <td>0.453920</td>\n",
       "      <td>0.453920</td>\n",
       "    </tr>\n",
       "    <tr>\n",
       "      <th>18</th>\n",
       "      <td>age_group_35 - 44 Years</td>\n",
       "      <td>-0.326186</td>\n",
       "      <td>0.326186</td>\n",
       "    </tr>\n",
       "    <tr>\n",
       "      <th>6</th>\n",
       "      <td>behavioral_touch_face</td>\n",
       "      <td>0.230444</td>\n",
       "      <td>0.230444</td>\n",
       "    </tr>\n",
       "    <tr>\n",
       "      <th>26</th>\n",
       "      <td>race_Black</td>\n",
       "      <td>-0.220022</td>\n",
       "      <td>0.220022</td>\n",
       "    </tr>\n",
       "  </tbody>\n",
       "</table>\n",
       "</div>"
      ],
      "text/plain": [
       "                        Feature  Coefficient  Absolute Coefficient\n",
       "7          doctor_recc_seasonal     1.274987              1.274987\n",
       "21          age_group_65+ Years     0.892130              0.892130\n",
       "10                health_worker     0.864741              0.864741\n",
       "17      age_group_18 - 34 Years    -0.610349              0.610349\n",
       "12  opinion_seas_vacc_effective     0.597997              0.597997\n",
       "13            opinion_seas_risk     0.553743              0.553743\n",
       "11             health_insurance     0.453920              0.453920\n",
       "18      age_group_35 - 44 Years    -0.326186              0.326186\n",
       "6         behavioral_touch_face     0.230444              0.230444\n",
       "26                   race_Black    -0.220022              0.220022"
      ]
     },
     "execution_count": 15,
     "metadata": {},
     "output_type": "execute_result"
    }
   ],
   "source": [
    "# Extracting the coefficients from the logistic regression model\n",
    "coefficients = pd.DataFrame({\"Feature\": X_train.columns, \"Coefficient\": logreg_best.coef_[0]})\n",
    "\n",
    "# Sorting the coefficients by their absolute values in descending order\n",
    "coefficients['Absolute Coefficient'] = coefficients['Coefficient'].abs()\n",
    "sorted_coefficients = coefficients.sort_values(by=\"Absolute Coefficient\", ascending=False)\n",
    "\n",
    "sorted_coefficients.head(10)  # Displaying the top 10 features based on coefficients"
   ]
  },
  {
   "cell_type": "markdown",
   "id": "bbca8e6a",
   "metadata": {},
   "source": [
    "The best feature from the model is the seasonal flu vaccine being recommended by doctor."
   ]
  },
  {
   "cell_type": "code",
   "execution_count": 16,
   "id": "60a13549",
   "metadata": {},
   "outputs": [
    {
     "data": {
      "text/plain": [
       "0        0.0\n",
       "1        NaN\n",
       "2        1.0\n",
       "3        0.0\n",
       "4        1.0\n",
       "        ... \n",
       "26700    0.0\n",
       "26701    0.0\n",
       "26702    1.0\n",
       "26704    0.0\n",
       "26705    0.0\n",
       "Name: doctor_recc_seasonal, Length: 21879, dtype: float64"
      ]
     },
     "execution_count": 16,
     "metadata": {},
     "output_type": "execute_result"
    }
   ],
   "source": [
    "#Best feature based on coefficients\n",
    "data[\"doctor_recc_seasonal\"]"
   ]
  },
  {
   "cell_type": "markdown",
   "id": "ed8a17b2",
   "metadata": {},
   "source": [
    "ROC Curve, True Positive Rate and False Positive Rate"
   ]
  },
  {
   "cell_type": "code",
   "execution_count": 17,
   "id": "8ba788ef",
   "metadata": {},
   "outputs": [],
   "source": [
    "y_prob = logreg_best.predict_proba(X_test)\n",
    "fpr, tpr, thresholds = roc_curve(y_test, y_prob[:,1])"
   ]
  },
  {
   "cell_type": "code",
   "execution_count": 18,
   "id": "6e566534",
   "metadata": {},
   "outputs": [
    {
     "data": {
      "text/plain": [
       "array([0.98495581, 0.97462462, 0.97407372, ..., 0.0104202 , 0.01002365,\n",
       "       0.0043195 ])"
      ]
     },
     "execution_count": 18,
     "metadata": {},
     "output_type": "execute_result"
    }
   ],
   "source": [
    "thresholds[1::]"
   ]
  },
  {
   "cell_type": "code",
   "execution_count": 19,
   "id": "26400441",
   "metadata": {},
   "outputs": [
    {
     "data": {
      "text/html": [
       "<div>\n",
       "<style scoped>\n",
       "    .dataframe tbody tr th:only-of-type {\n",
       "        vertical-align: middle;\n",
       "    }\n",
       "\n",
       "    .dataframe tbody tr th {\n",
       "        vertical-align: top;\n",
       "    }\n",
       "\n",
       "    .dataframe thead th {\n",
       "        text-align: right;\n",
       "    }\n",
       "</style>\n",
       "<table border=\"1\" class=\"dataframe\">\n",
       "  <thead>\n",
       "    <tr style=\"text-align: right;\">\n",
       "      <th></th>\n",
       "      <th>threshold</th>\n",
       "      <th>tpr</th>\n",
       "      <th>fpr</th>\n",
       "    </tr>\n",
       "  </thead>\n",
       "  <tbody>\n",
       "    <tr>\n",
       "      <th>1</th>\n",
       "      <td>0.984956</td>\n",
       "      <td>0.000478</td>\n",
       "      <td>0.000000</td>\n",
       "    </tr>\n",
       "    <tr>\n",
       "      <th>2</th>\n",
       "      <td>0.974625</td>\n",
       "      <td>0.013849</td>\n",
       "      <td>0.000000</td>\n",
       "    </tr>\n",
       "    <tr>\n",
       "      <th>3</th>\n",
       "      <td>0.974074</td>\n",
       "      <td>0.013849</td>\n",
       "      <td>0.000438</td>\n",
       "    </tr>\n",
       "    <tr>\n",
       "      <th>4</th>\n",
       "      <td>0.971295</td>\n",
       "      <td>0.022445</td>\n",
       "      <td>0.000438</td>\n",
       "    </tr>\n",
       "    <tr>\n",
       "      <th>5</th>\n",
       "      <td>0.970875</td>\n",
       "      <td>0.022445</td>\n",
       "      <td>0.000876</td>\n",
       "    </tr>\n",
       "    <tr>\n",
       "      <th>6</th>\n",
       "      <td>0.968545</td>\n",
       "      <td>0.028653</td>\n",
       "      <td>0.000876</td>\n",
       "    </tr>\n",
       "    <tr>\n",
       "      <th>7</th>\n",
       "      <td>0.968522</td>\n",
       "      <td>0.028653</td>\n",
       "      <td>0.001315</td>\n",
       "    </tr>\n",
       "    <tr>\n",
       "      <th>8</th>\n",
       "      <td>0.966514</td>\n",
       "      <td>0.033906</td>\n",
       "      <td>0.001315</td>\n",
       "    </tr>\n",
       "    <tr>\n",
       "      <th>9</th>\n",
       "      <td>0.966434</td>\n",
       "      <td>0.033906</td>\n",
       "      <td>0.001753</td>\n",
       "    </tr>\n",
       "    <tr>\n",
       "      <th>10</th>\n",
       "      <td>0.966032</td>\n",
       "      <td>0.034384</td>\n",
       "      <td>0.001753</td>\n",
       "    </tr>\n",
       "  </tbody>\n",
       "</table>\n",
       "</div>"
      ],
      "text/plain": [
       "    threshold       tpr       fpr\n",
       "1    0.984956  0.000478  0.000000\n",
       "2    0.974625  0.013849  0.000000\n",
       "3    0.974074  0.013849  0.000438\n",
       "4    0.971295  0.022445  0.000438\n",
       "5    0.970875  0.022445  0.000876\n",
       "6    0.968545  0.028653  0.000876\n",
       "7    0.968522  0.028653  0.001315\n",
       "8    0.966514  0.033906  0.001315\n",
       "9    0.966434  0.033906  0.001753\n",
       "10   0.966032  0.034384  0.001753"
      ]
     },
     "execution_count": 19,
     "metadata": {},
     "output_type": "execute_result"
    }
   ],
   "source": [
    "thresh_df = pd.DataFrame({\"threshold\": thresholds,\n",
    "                          \"tpr\":  tpr, \"fpr\": fpr}).iloc[1::, :]\n",
    "thresh_df.head(10)"
   ]
  },
  {
   "cell_type": "code",
   "execution_count": 20,
   "id": "b4570a40",
   "metadata": {},
   "outputs": [
    {
     "data": {
      "image/png": "[encoded data removed]",
      "text/plain": [
       "<Figure size 1000x500 with 2 Axes>"
      ]
     },
     "metadata": {},
     "output_type": "display_data"
    }
   ],
   "source": [
    "fig, ax = plt.subplots(1,2, figsize = (10,5))\n",
    "thresh_df.plot(x = \"threshold\", y = \"tpr\", ax = ax[0])\n",
    "thresh_df.plot(x = \"threshold\", y = \"fpr\", ax = ax[0])\n",
    "thresh_df.plot(x = \"fpr\", y = 'tpr', ax = ax[1], label = \"ROC\")\n",
    "ax[1].set_ylabel(\"True positive rate\")\n",
    "ax[1].set_xlabel(\"False positive rate\")\n",
    "ax[0].plot([0, 1], [1, 0],\"k--\")\n",
    "ax[1].plot([0, 1], [0, 1],\"k--\")\n",
    "plt.tight_layout()"
   ]
  },
  {
   "cell_type": "code",
   "execution_count": 21,
   "id": "77a429b7",
   "metadata": {},
   "outputs": [
    {
     "data": {
      "image/png": "[encoded data removed]",
      "text/plain": [
       "<Figure size 640x480 with 1 Axes>"
      ]
     },
     "metadata": {},
     "output_type": "display_data"
    }
   ],
   "source": [
    "RocCurveDisplay.from_estimator(logreg_best, X_test, y_test)\n",
    "plt.plot([0, 1], [0, 1], \"k--\");"
   ]
  },
  {
   "cell_type": "code",
   "execution_count": null,
   "id": "ac52b005",
   "metadata": {},
   "outputs": [],
   "source": []
  }
 ],
 "metadata": {
  "kernelspec": {
   "display_name": "kris_data",
   "language": "python",
   "name": "python3"
  },
  "language_info": {
   "codemirror_mode": {
    "name": "ipython",
    "version": 3
   },
   "file_extension": ".py",
   "mimetype": "text/x-python",
   "name": "python",
   "nbconvert_exporter": "python",
   "pygments_lexer": "ipython3",
   "version": "3.10.13"
  }
 },
 "nbformat": 4,
 "nbformat_minor": 5
}
